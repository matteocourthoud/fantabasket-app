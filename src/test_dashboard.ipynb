{
 "cells": [
  {
   "cell_type": "markdown",
   "id": "653fe2e0-3b25-4bd6-a9bb-cdfb8a8bac75",
   "metadata": {},
   "source": [
    "# Debug File"
   ]
  },
  {
   "cell_type": "code",
   "execution_count": 1,
   "id": "b2209f526c45ae12",
   "metadata": {
    "ExecuteTime": {
     "end_time": "2024-11-10T18:38:30.699947Z",
     "start_time": "2024-11-10T18:38:30.376383Z"
    },
    "collapsed": false
   },
   "outputs": [],
   "source": [
    "import os\n",
    "\n",
    "import pandas as pd\n",
    "\n",
    "data_dir = \"../data\"\n",
    "season = 2024"
   ]
  },
  {
   "cell_type": "markdown",
   "id": "91601a5147c2ffa3",
   "metadata": {
    "collapsed": false
   },
   "source": [
    "## Scrape Calendar"
   ]
  },
  {
   "cell_type": "code",
   "execution_count": 2,
   "id": "169e6ee3123b727b",
   "metadata": {
    "ExecuteTime": {
     "end_time": "2024-11-10T18:38:30.700078Z",
     "start_time": "2024-11-10T18:38:30.676557Z"
    },
    "collapsed": false
   },
   "outputs": [],
   "source": [
    "from src.scraping.scrape_calendar import update_get_nba_calendar"
   ]
  },
  {
   "cell_type": "code",
   "execution_count": 3,
   "id": "24bee30cebad67c0",
   "metadata": {
    "ExecuteTime": {
     "end_time": "2024-11-10T18:38:30.700325Z",
     "start_time": "2024-11-10T18:38:30.681249Z"
    },
    "collapsed": false
   },
   "outputs": [
    {
     "data": {
      "text/html": "<div>\n<style scoped>\n    .dataframe tbody tr th:only-of-type {\n        vertical-align: middle;\n    }\n\n    .dataframe tbody tr th {\n        vertical-align: top;\n    }\n\n    .dataframe thead th {\n        text-align: right;\n    }\n</style>\n<table border=\"1\" class=\"dataframe\">\n  <thead>\n    <tr style=\"text-align: right;\">\n      <th></th>\n      <th>date</th>\n      <th>team_visitor</th>\n      <th>team_home</th>\n    </tr>\n  </thead>\n  <tbody>\n    <tr>\n      <th>0</th>\n      <td>2024-10-22</td>\n      <td>New York</td>\n      <td>Boston</td>\n    </tr>\n    <tr>\n      <th>1</th>\n      <td>2024-10-22</td>\n      <td>Minnesota</td>\n      <td>LA Lakers</td>\n    </tr>\n    <tr>\n      <th>2</th>\n      <td>2024-10-23</td>\n      <td>Golden State</td>\n      <td>Portland</td>\n    </tr>\n    <tr>\n      <th>3</th>\n      <td>2024-10-23</td>\n      <td>Memphis</td>\n      <td>Utah</td>\n    </tr>\n    <tr>\n      <th>4</th>\n      <td>2024-10-23</td>\n      <td>Chicago</td>\n      <td>New Orleans</td>\n    </tr>\n  </tbody>\n</table>\n</div>",
      "text/plain": "         date  team_visitor    team_home\n0  2024-10-22      New York       Boston\n1  2024-10-22     Minnesota    LA Lakers\n2  2024-10-23  Golden State     Portland\n3  2024-10-23       Memphis         Utah\n4  2024-10-23       Chicago  New Orleans"
     },
     "execution_count": 3,
     "metadata": {},
     "output_type": "execute_result"
    }
   ],
   "source": [
    "df_calendar = update_get_nba_calendar(data_dir=data_dir, season=season)\n",
    "df_calendar.head()"
   ]
  },
  {
   "cell_type": "markdown",
   "id": "889423138d95606b",
   "metadata": {
    "collapsed": false
   },
   "source": [
    "## Scrape Players"
   ]
  },
  {
   "cell_type": "code",
   "execution_count": 4,
   "id": "50eb2413344d161d",
   "metadata": {
    "ExecuteTime": {
     "end_time": "2024-11-10T18:38:30.777473Z",
     "start_time": "2024-11-10T18:38:30.690315Z"
    },
    "collapsed": false
   },
   "outputs": [],
   "source": [
    "from src.scraping.scrape_players import update_get_players"
   ]
  },
  {
   "cell_type": "code",
   "execution_count": 5,
   "id": "72b12f961a60a2c",
   "metadata": {
    "ExecuteTime": {
     "end_time": "2024-11-10T18:38:30.777958Z",
     "start_time": "2024-11-10T18:38:30.762707Z"
    },
    "collapsed": false
   },
   "outputs": [
    {
     "data": {
      "text/html": "<div>\n<style scoped>\n    .dataframe tbody tr th:only-of-type {\n        vertical-align: middle;\n    }\n\n    .dataframe tbody tr th {\n        vertical-align: top;\n    }\n\n    .dataframe thead th {\n        text-align: right;\n    }\n</style>\n<table border=\"1\" class=\"dataframe\">\n  <thead>\n    <tr style=\"text-align: right;\">\n      <th></th>\n      <th>name</th>\n      <th>name_short</th>\n      <th>code</th>\n      <th>position</th>\n    </tr>\n  </thead>\n  <tbody>\n    <tr>\n      <th>0</th>\n      <td>Mikal Bridges</td>\n      <td>M. Bridges</td>\n      <td>bridgmi01</td>\n      <td>F</td>\n    </tr>\n    <tr>\n      <th>1</th>\n      <td>Jaylen Brown</td>\n      <td>J. Brown</td>\n      <td>brownja02</td>\n      <td>F</td>\n    </tr>\n    <tr>\n      <th>2</th>\n      <td>Derrick White</td>\n      <td>D. White</td>\n      <td>whitede01</td>\n      <td>G</td>\n    </tr>\n    <tr>\n      <th>3</th>\n      <td>Al Horford</td>\n      <td>A. Horford</td>\n      <td>horfoal01</td>\n      <td>C</td>\n    </tr>\n    <tr>\n      <th>4</th>\n      <td>Payton Pritchard</td>\n      <td>P. Pritchard</td>\n      <td>pritcpa01</td>\n      <td>G</td>\n    </tr>\n  </tbody>\n</table>\n</div>",
      "text/plain": "               name    name_short       code position\n0     Mikal Bridges    M. Bridges  bridgmi01        F\n1      Jaylen Brown      J. Brown  brownja02        F\n2     Derrick White      D. White  whitede01        G\n3        Al Horford    A. Horford  horfoal01        C\n4  Payton Pritchard  P. Pritchard  pritcpa01        G"
     },
     "execution_count": 5,
     "metadata": {},
     "output_type": "execute_result"
    }
   ],
   "source": [
    "df_players = update_get_players(data_dir=data_dir, season=season)\n",
    "df_players.head()"
   ]
  },
  {
   "cell_type": "markdown",
   "id": "646a28c49f062270",
   "metadata": {
    "collapsed": false
   },
   "source": [
    "## Scrape Initial Ratings"
   ]
  },
  {
   "cell_type": "code",
   "execution_count": 6,
   "id": "d23fb0acc6ff064d",
   "metadata": {
    "ExecuteTime": {
     "end_time": "2024-11-10T18:38:30.801592Z",
     "start_time": "2024-11-10T18:38:30.768426Z"
    },
    "collapsed": false
   },
   "outputs": [],
   "source": [
    "from src.scraping.scrape_ratings import update_get_initial_ratings"
   ]
  },
  {
   "cell_type": "code",
   "execution_count": 7,
   "id": "6da6af778ce7b92",
   "metadata": {
    "ExecuteTime": {
     "end_time": "2024-11-10T18:38:30.826560Z",
     "start_time": "2024-11-10T18:38:30.798314Z"
    },
    "collapsed": false
   },
   "outputs": [
    {
     "data": {
      "text/html": "<div>\n<style scoped>\n    .dataframe tbody tr th:only-of-type {\n        vertical-align: middle;\n    }\n\n    .dataframe tbody tr th {\n        vertical-align: top;\n    }\n\n    .dataframe thead th {\n        text-align: right;\n    }\n</style>\n<table border=\"1\" class=\"dataframe\">\n  <thead>\n    <tr style=\"text-align: right;\">\n      <th></th>\n      <th>name_short</th>\n      <th>initial_rating</th>\n    </tr>\n  </thead>\n  <tbody>\n    <tr>\n      <th>0</th>\n      <td>N. Jokic</td>\n      <td>25.0</td>\n    </tr>\n    <tr>\n      <th>1</th>\n      <td>G. Antetokounmpo</td>\n      <td>23.5</td>\n    </tr>\n    <tr>\n      <th>2</th>\n      <td>A. Davis</td>\n      <td>22.5</td>\n    </tr>\n    <tr>\n      <th>3</th>\n      <td>J. Tatum</td>\n      <td>19.0</td>\n    </tr>\n    <tr>\n      <th>4</th>\n      <td>T. Young</td>\n      <td>18.5</td>\n    </tr>\n  </tbody>\n</table>\n</div>",
      "text/plain": "         name_short  initial_rating\n0          N. Jokic            25.0\n1  G. Antetokounmpo            23.5\n2          A. Davis            22.5\n3          J. Tatum            19.0\n4          T. Young            18.5"
     },
     "execution_count": 7,
     "metadata": {},
     "output_type": "execute_result"
    }
   ],
   "source": [
    "df_ratings = update_get_initial_ratings(data_dir=data_dir, season=season)\n",
    "df_ratings.head()"
   ]
  },
  {
   "cell_type": "markdown",
   "id": "84af6cbe-a3d5-4fe0-8e13-07b59b62bf91",
   "metadata": {},
   "source": [
    "## Scrape Games"
   ]
  },
  {
   "cell_type": "code",
   "execution_count": 8,
   "id": "28889b0a79865c42",
   "metadata": {
    "ExecuteTime": {
     "end_time": "2024-11-10T18:38:30.844054Z",
     "start_time": "2024-11-10T18:38:30.803126Z"
    },
    "collapsed": false
   },
   "outputs": [],
   "source": [
    "from src.scraping.scrape_games import update_get_nba_stats"
   ]
  },
  {
   "cell_type": "code",
   "execution_count": 9,
   "id": "d637b003-99d3-47cb-a45c-da7ec0be32e7",
   "metadata": {
    "ExecuteTime": {
     "end_time": "2024-11-10T18:38:30.863664Z",
     "start_time": "2024-11-10T18:38:30.809163Z"
    }
   },
   "outputs": [
    {
     "name": "stdout",
     "output_type": "stream",
     "text": [
      "Game stats up to date!\n"
     ]
    },
    {
     "data": {
      "text/html": "<div>\n<style scoped>\n    .dataframe tbody tr th:only-of-type {\n        vertical-align: middle;\n    }\n\n    .dataframe tbody tr th {\n        vertical-align: top;\n    }\n\n    .dataframe thead th {\n        text-align: right;\n    }\n</style>\n<table border=\"1\" class=\"dataframe\">\n  <thead>\n    <tr style=\"text-align: right;\">\n      <th></th>\n      <th>name</th>\n      <th>mp</th>\n      <th>fg</th>\n      <th>fga</th>\n      <th>fg%</th>\n      <th>3p</th>\n      <th>3pa</th>\n      <th>3p%</th>\n      <th>ft</th>\n      <th>fta</th>\n      <th>...</th>\n      <th>stl</th>\n      <th>blk</th>\n      <th>tov</th>\n      <th>pf</th>\n      <th>pts</th>\n      <th>gmsc</th>\n      <th>+/-</th>\n      <th>start</th>\n      <th>win</th>\n      <th>game_id</th>\n    </tr>\n  </thead>\n  <tbody>\n    <tr>\n      <th>0</th>\n      <td>Mikal Bridges</td>\n      <td>34.0</td>\n      <td>7.0</td>\n      <td>13.0</td>\n      <td>0.538</td>\n      <td>2.0</td>\n      <td>7.0</td>\n      <td>0.286</td>\n      <td>0.0</td>\n      <td>1.0</td>\n      <td>...</td>\n      <td>0.0</td>\n      <td>0.0</td>\n      <td>1.0</td>\n      <td>0.0</td>\n      <td>16.0</td>\n      <td>9.7</td>\n      <td>-33.0</td>\n      <td>1</td>\n      <td>0</td>\n      <td>202410220BOS</td>\n    </tr>\n    <tr>\n      <th>1</th>\n      <td>Cameron Payne</td>\n      <td>20.0</td>\n      <td>5.0</td>\n      <td>10.0</td>\n      <td>0.500</td>\n      <td>1.0</td>\n      <td>4.0</td>\n      <td>0.250</td>\n      <td>0.0</td>\n      <td>0.0</td>\n      <td>...</td>\n      <td>1.0</td>\n      <td>0.0</td>\n      <td>1.0</td>\n      <td>3.0</td>\n      <td>11.0</td>\n      <td>8.9</td>\n      <td>0.0</td>\n      <td>0</td>\n      <td>0</td>\n      <td>202410220BOS</td>\n    </tr>\n    <tr>\n      <th>2</th>\n      <td>Jrue Holiday</td>\n      <td>30.0</td>\n      <td>7.0</td>\n      <td>9.0</td>\n      <td>0.778</td>\n      <td>4.0</td>\n      <td>6.0</td>\n      <td>0.667</td>\n      <td>0.0</td>\n      <td>0.0</td>\n      <td>...</td>\n      <td>1.0</td>\n      <td>0.0</td>\n      <td>0.0</td>\n      <td>2.0</td>\n      <td>18.0</td>\n      <td>19.5</td>\n      <td>23.0</td>\n      <td>1</td>\n      <td>1</td>\n      <td>202410220BOS</td>\n    </tr>\n    <tr>\n      <th>3</th>\n      <td>OG Anunoby</td>\n      <td>34.0</td>\n      <td>1.0</td>\n      <td>7.0</td>\n      <td>0.143</td>\n      <td>0.0</td>\n      <td>4.0</td>\n      <td>0.000</td>\n      <td>2.0</td>\n      <td>2.0</td>\n      <td>...</td>\n      <td>1.0</td>\n      <td>0.0</td>\n      <td>0.0</td>\n      <td>3.0</td>\n      <td>4.0</td>\n      <td>2.9</td>\n      <td>-21.0</td>\n      <td>1</td>\n      <td>0</td>\n      <td>202410220BOS</td>\n    </tr>\n    <tr>\n      <th>4</th>\n      <td>Jalen Brunson</td>\n      <td>24.0</td>\n      <td>9.0</td>\n      <td>14.0</td>\n      <td>0.643</td>\n      <td>1.0</td>\n      <td>2.0</td>\n      <td>0.500</td>\n      <td>3.0</td>\n      <td>3.0</td>\n      <td>...</td>\n      <td>0.0</td>\n      <td>0.0</td>\n      <td>4.0</td>\n      <td>3.0</td>\n      <td>22.0</td>\n      <td>12.3</td>\n      <td>-23.0</td>\n      <td>1</td>\n      <td>0</td>\n      <td>202410220BOS</td>\n    </tr>\n    <tr>\n      <th>...</th>\n      <td>...</td>\n      <td>...</td>\n      <td>...</td>\n      <td>...</td>\n      <td>...</td>\n      <td>...</td>\n      <td>...</td>\n      <td>...</td>\n      <td>...</td>\n      <td>...</td>\n      <td>...</td>\n      <td>...</td>\n      <td>...</td>\n      <td>...</td>\n      <td>...</td>\n      <td>...</td>\n      <td>...</td>\n      <td>...</td>\n      <td>...</td>\n      <td>...</td>\n      <td>...</td>\n    </tr>\n    <tr>\n      <th>3773</th>\n      <td>Collin Sexton</td>\n      <td>28.0</td>\n      <td>8.0</td>\n      <td>13.0</td>\n      <td>0.615</td>\n      <td>1.0</td>\n      <td>3.0</td>\n      <td>0.333</td>\n      <td>6.0</td>\n      <td>7.0</td>\n      <td>...</td>\n      <td>2.0</td>\n      <td>0.0</td>\n      <td>3.0</td>\n      <td>4.0</td>\n      <td>23.0</td>\n      <td>17.1</td>\n      <td>2.0</td>\n      <td>1</td>\n      <td>1</td>\n      <td>202411090SAS</td>\n    </tr>\n    <tr>\n      <th>3774</th>\n      <td>Lauri Markkanen</td>\n      <td>36.0</td>\n      <td>5.0</td>\n      <td>15.0</td>\n      <td>0.333</td>\n      <td>3.0</td>\n      <td>7.0</td>\n      <td>0.429</td>\n      <td>7.0</td>\n      <td>8.0</td>\n      <td>...</td>\n      <td>2.0</td>\n      <td>0.0</td>\n      <td>1.0</td>\n      <td>2.0</td>\n      <td>20.0</td>\n      <td>16.7</td>\n      <td>-4.0</td>\n      <td>1</td>\n      <td>1</td>\n      <td>202411090SAS</td>\n    </tr>\n    <tr>\n      <th>3775</th>\n      <td>Charles Bassey</td>\n      <td>NaN</td>\n      <td>NaN</td>\n      <td>NaN</td>\n      <td>NaN</td>\n      <td>NaN</td>\n      <td>NaN</td>\n      <td>NaN</td>\n      <td>NaN</td>\n      <td>NaN</td>\n      <td>...</td>\n      <td>NaN</td>\n      <td>NaN</td>\n      <td>NaN</td>\n      <td>NaN</td>\n      <td>NaN</td>\n      <td>NaN</td>\n      <td>NaN</td>\n      <td>0</td>\n      <td>0</td>\n      <td>202411090SAS</td>\n    </tr>\n    <tr>\n      <th>3776</th>\n      <td>Svi Mykhailiuk</td>\n      <td>NaN</td>\n      <td>NaN</td>\n      <td>NaN</td>\n      <td>NaN</td>\n      <td>NaN</td>\n      <td>NaN</td>\n      <td>NaN</td>\n      <td>NaN</td>\n      <td>NaN</td>\n      <td>...</td>\n      <td>NaN</td>\n      <td>NaN</td>\n      <td>NaN</td>\n      <td>NaN</td>\n      <td>NaN</td>\n      <td>NaN</td>\n      <td>NaN</td>\n      <td>0</td>\n      <td>1</td>\n      <td>202411090SAS</td>\n    </tr>\n    <tr>\n      <th>3777</th>\n      <td>Sidy Cissoko</td>\n      <td>NaN</td>\n      <td>NaN</td>\n      <td>NaN</td>\n      <td>NaN</td>\n      <td>NaN</td>\n      <td>NaN</td>\n      <td>NaN</td>\n      <td>NaN</td>\n      <td>NaN</td>\n      <td>...</td>\n      <td>NaN</td>\n      <td>NaN</td>\n      <td>NaN</td>\n      <td>NaN</td>\n      <td>NaN</td>\n      <td>NaN</td>\n      <td>NaN</td>\n      <td>0</td>\n      <td>0</td>\n      <td>202411090SAS</td>\n    </tr>\n  </tbody>\n</table>\n<p>3778 rows × 25 columns</p>\n</div>",
      "text/plain": "                 name    mp   fg   fga    fg%   3p  3pa    3p%   ft  fta  ...  \\\n0       Mikal Bridges  34.0  7.0  13.0  0.538  2.0  7.0  0.286  0.0  1.0  ...   \n1       Cameron Payne  20.0  5.0  10.0  0.500  1.0  4.0  0.250  0.0  0.0  ...   \n2        Jrue Holiday  30.0  7.0   9.0  0.778  4.0  6.0  0.667  0.0  0.0  ...   \n3          OG Anunoby  34.0  1.0   7.0  0.143  0.0  4.0  0.000  2.0  2.0  ...   \n4       Jalen Brunson  24.0  9.0  14.0  0.643  1.0  2.0  0.500  3.0  3.0  ...   \n...               ...   ...  ...   ...    ...  ...  ...    ...  ...  ...  ...   \n3773    Collin Sexton  28.0  8.0  13.0  0.615  1.0  3.0  0.333  6.0  7.0  ...   \n3774  Lauri Markkanen  36.0  5.0  15.0  0.333  3.0  7.0  0.429  7.0  8.0  ...   \n3775   Charles Bassey   NaN  NaN   NaN    NaN  NaN  NaN    NaN  NaN  NaN  ...   \n3776   Svi Mykhailiuk   NaN  NaN   NaN    NaN  NaN  NaN    NaN  NaN  NaN  ...   \n3777     Sidy Cissoko   NaN  NaN   NaN    NaN  NaN  NaN    NaN  NaN  NaN  ...   \n\n      stl  blk  tov   pf   pts  gmsc   +/-  start  win       game_id  \n0     0.0  0.0  1.0  0.0  16.0   9.7 -33.0      1    0  202410220BOS  \n1     1.0  0.0  1.0  3.0  11.0   8.9   0.0      0    0  202410220BOS  \n2     1.0  0.0  0.0  2.0  18.0  19.5  23.0      1    1  202410220BOS  \n3     1.0  0.0  0.0  3.0   4.0   2.9 -21.0      1    0  202410220BOS  \n4     0.0  0.0  4.0  3.0  22.0  12.3 -23.0      1    0  202410220BOS  \n...   ...  ...  ...  ...   ...   ...   ...    ...  ...           ...  \n3773  2.0  0.0  3.0  4.0  23.0  17.1   2.0      1    1  202411090SAS  \n3774  2.0  0.0  1.0  2.0  20.0  16.7  -4.0      1    1  202411090SAS  \n3775  NaN  NaN  NaN  NaN   NaN   NaN   NaN      0    0  202411090SAS  \n3776  NaN  NaN  NaN  NaN   NaN   NaN   NaN      0    1  202411090SAS  \n3777  NaN  NaN  NaN  NaN   NaN   NaN   NaN      0    0  202411090SAS  \n\n[3778 rows x 25 columns]"
     },
     "execution_count": 9,
     "metadata": {},
     "output_type": "execute_result"
    }
   ],
   "source": [
    "df_stats = update_get_nba_stats(data_dir=data_dir, season=season)\n",
    "df_stats"
   ]
  },
  {
   "cell_type": "markdown",
   "id": "064610d7-0d87-4ebd-8962-f1a9b0fbfca5",
   "metadata": {},
   "source": [
    "## Scrape Injuries"
   ]
  },
  {
   "cell_type": "code",
   "execution_count": 10,
   "id": "14807154958130b6",
   "metadata": {
    "ExecuteTime": {
     "end_time": "2024-11-10T18:38:30.863751Z",
     "start_time": "2024-11-10T18:38:30.836393Z"
    },
    "collapsed": false
   },
   "outputs": [],
   "source": [
    "from src.scraping.scrape_injuries import update_get_nba_injuries"
   ]
  },
  {
   "cell_type": "code",
   "execution_count": 11,
   "id": "a3611b06572dfa43",
   "metadata": {
    "ExecuteTime": {
     "end_time": "2024-11-10T18:38:32.775489Z",
     "start_time": "2024-11-10T18:38:30.840741Z"
    },
    "collapsed": false
   },
   "outputs": [
    {
     "name": "stdout",
     "output_type": "stream",
     "text": [
      "Scraping injuries...\n"
     ]
    },
    {
     "ename": "AssertionError",
     "evalue": "Duplicated 'name' in ../data/injuries.csv.",
     "output_type": "error",
     "traceback": [
      "\u001b[0;31m---------------------------------------------------------------------------\u001b[0m",
      "\u001b[0;31mAssertionError\u001b[0m                            Traceback (most recent call last)",
      "Cell \u001b[0;32mIn[11], line 1\u001b[0m\n\u001b[0;32m----> 1\u001b[0m df_injuries \u001b[38;5;241m=\u001b[39m \u001b[43mupdate_get_nba_injuries\u001b[49m\u001b[43m(\u001b[49m\u001b[43mdata_dir\u001b[49m\u001b[38;5;241;43m=\u001b[39;49m\u001b[43mdata_dir\u001b[49m\u001b[43m)\u001b[49m\n\u001b[1;32m      2\u001b[0m df_injuries\n",
      "File \u001b[0;32m~/Dropbox/Projects/Fantabasket/src/scraping/scrape_injuries.py:50\u001b[0m, in \u001b[0;36mupdate_get_nba_injuries\u001b[0;34m(data_dir, update)\u001b[0m\n\u001b[1;32m     48\u001b[0m     df_injuries\u001b[38;5;241m.\u001b[39mto_csv(file_path, index\u001b[38;5;241m=\u001b[39m\u001b[38;5;28;01mFalse\u001b[39;00m)\n\u001b[1;32m     49\u001b[0m df_injuries \u001b[38;5;241m=\u001b[39m pd\u001b[38;5;241m.\u001b[39mread_csv(file_path)\n\u001b[0;32m---> 50\u001b[0m \u001b[38;5;28;01massert\u001b[39;00m df_injuries\u001b[38;5;241m.\u001b[39mduplicated(subset\u001b[38;5;241m=\u001b[39m[\u001b[38;5;124m\"\u001b[39m\u001b[38;5;124mname\u001b[39m\u001b[38;5;124m\"\u001b[39m])\u001b[38;5;241m.\u001b[39many(), \u001b[38;5;124mf\u001b[39m\u001b[38;5;124m\"\u001b[39m\u001b[38;5;124mDuplicated \u001b[39m\u001b[38;5;124m'\u001b[39m\u001b[38;5;124mname\u001b[39m\u001b[38;5;124m'\u001b[39m\u001b[38;5;124m in \u001b[39m\u001b[38;5;132;01m{\u001b[39;00mfile_path\u001b[38;5;132;01m}\u001b[39;00m\u001b[38;5;124m.\u001b[39m\u001b[38;5;124m\"\u001b[39m\n\u001b[1;32m     51\u001b[0m \u001b[38;5;28;01mreturn\u001b[39;00m df_injuries\n",
      "\u001b[0;31mAssertionError\u001b[0m: Duplicated 'name' in ../data/injuries.csv."
     ]
    }
   ],
   "source": [
    "df_injuries = update_get_nba_injuries(data_dir=data_dir)\n",
    "df_injuries"
   ]
  },
  {
   "cell_type": "markdown",
   "id": "5f9468b2255ca892",
   "metadata": {
    "collapsed": false
   },
   "source": [
    "## Scrape Lineups"
   ]
  },
  {
   "cell_type": "code",
   "execution_count": null,
   "id": "bb6c0b2a20da364",
   "metadata": {
    "ExecuteTime": {
     "end_time": "2024-11-10T18:38:32.848677Z",
     "start_time": "2024-11-10T18:38:32.777358Z"
    },
    "collapsed": false
   },
   "outputs": [],
   "source": [
    "from src.scraping.scrape_next_lineups import update_get_next_lineups"
   ]
  },
  {
   "cell_type": "code",
   "execution_count": null,
   "id": "34d0006473f41801",
   "metadata": {
    "ExecuteTime": {
     "start_time": "2024-11-10T18:38:32.778443Z"
    },
    "collapsed": false
   },
   "outputs": [],
   "source": [
    "df_lineups = update_get_next_lineups(data_dir=data_dir, season=season)\n",
    "df_lineups.head()"
   ]
  },
  {
   "cell_type": "markdown",
   "id": "f34bef1409851a91",
   "metadata": {
    "collapsed": false
   },
   "source": [
    "## Compute Stats"
   ]
  },
  {
   "cell_type": "code",
   "execution_count": null,
   "id": "62fe9abda6a5e457",
   "metadata": {
    "ExecuteTime": {
     "start_time": "2024-11-10T18:38:32.779512Z"
    },
    "collapsed": false
   },
   "outputs": [],
   "source": [
    "from model.compute_fanta_stats import update_get_fantabasket_stats"
   ]
  },
  {
   "cell_type": "code",
   "execution_count": null,
   "id": "aee7b09377aa827f",
   "metadata": {
    "ExecuteTime": {
     "start_time": "2024-11-10T18:38:32.780720Z"
    },
    "collapsed": false
   },
   "outputs": [],
   "source": [
    "df_stats = update_get_fantabasket_stats(data_dir=data_dir, season=season, df_stats=df_stats)\n",
    "df_stats"
   ]
  },
  {
   "cell_type": "markdown",
   "id": "e763ec32c824cbd9",
   "metadata": {
    "collapsed": false
   },
   "source": [
    "## Predict Gain"
   ]
  },
  {
   "cell_type": "code",
   "execution_count": null,
   "id": "b3cc2ef6b7b16c70",
   "metadata": {
    "ExecuteTime": {
     "start_time": "2024-11-10T18:38:32.847919Z"
    },
    "collapsed": false
   },
   "outputs": [],
   "source": [
    "df_games = pd.read_csv(os.path.join(data_dir, str(season), \"games.csv\"))"
   ]
  },
  {
   "cell_type": "code",
   "execution_count": null,
   "id": "ebf3f4970e0281fe",
   "metadata": {
    "ExecuteTime": {
     "start_time": "2024-11-10T18:38:32.847963Z"
    },
    "collapsed": false
   },
   "outputs": [],
   "source": [
    "from model.predict_gain import GainModel\n",
    "\n",
    "gm = GainModel(data_dir=data_dir, season=season, df_calendar=df_calendar, df_injuries=df_injuries, df_games=df_games, df_stats=df_stats)\n",
    "df_predicted_gain = gm.update_get_predicted_gain()\n",
    "df_predicted_gain"
   ]
  },
  {
   "cell_type": "markdown",
   "id": "e5e75522520927ba",
   "metadata": {
    "collapsed": false
   },
   "source": [
    "##  Dashboard"
   ]
  },
  {
   "cell_type": "code",
   "execution_count": null,
   "id": "a826f9f0aef4c8c0",
   "metadata": {
    "ExecuteTime": {
     "start_time": "2024-11-10T18:38:32.847983Z"
    },
    "collapsed": false
   },
   "outputs": [],
   "source": [
    "from src.dashboard import dashboard"
   ]
  },
  {
   "cell_type": "code",
   "execution_count": null,
   "id": "aa659bba46633a13",
   "metadata": {
    "ExecuteTime": {
     "start_time": "2024-11-10T18:38:32.848001Z"
    },
    "collapsed": false
   },
   "outputs": [],
   "source": [
    "df = dashboard.import_data()"
   ]
  },
  {
   "cell_type": "code",
   "execution_count": null,
   "id": "90b3ac8bedd91814",
   "metadata": {
    "ExecuteTime": {
     "start_time": "2024-11-10T18:38:32.848018Z"
    },
    "collapsed": false
   },
   "outputs": [],
   "source": [
    "df_plot = df.copy()\n",
    "df_plot[\"name\"] = df_plot[\"name\"] + \" - \" + df_plot[\"last_price\"].apply(lambda x: f\"{x:.1f}\")\n",
    "df_plot"
   ]
  },
  {
   "cell_type": "code",
   "execution_count": null,
   "id": "2f664212b9953554",
   "metadata": {
    "ExecuteTime": {
     "start_time": "2024-11-10T18:38:32.848035Z"
    },
    "collapsed": false
   },
   "outputs": [],
   "source": [
    "temp = df_plot.copy()\n",
    "temp = temp.fillna(0)\n",
    "temp_players = temp[temp.time_delta < 14\n",
    "                    ].groupby(\n",
    "    \"name\", as_index=False).agg(\n",
    "    predicted_gain=(\"predicted_gain\", \"last\"),\n",
    "    median_gain=(\"fanta_gain\", \"median\"),\n",
    "    mean_score=(\"fanta_score\", \"mean\"),\n",
    "    fanta_value=(\"fanta_value\", \"last\"))\n",
    "temp = temp.sort_values([\"predicted_gain\", \"date\"])"
   ]
  },
  {
   "cell_type": "code",
   "execution_count": null,
   "id": "520dd6fd7241a18d",
   "metadata": {
    "ExecuteTime": {
     "start_time": "2024-11-10T18:38:32.848087Z"
    },
    "collapsed": false
   },
   "outputs": [],
   "source": [
    "temp"
   ]
  },
  {
   "cell_type": "markdown",
   "id": "9c146e03fd9713c3",
   "metadata": {
    "collapsed": false
   },
   "source": [
    "## Get Players Changing Status"
   ]
  },
  {
   "cell_type": "code",
   "execution_count": null,
   "id": "1f163aa12324c497",
   "metadata": {
    "ExecuteTime": {
     "start_time": "2024-11-10T18:38:32.848178Z"
    },
    "collapsed": false
   },
   "outputs": [],
   "source": [
    "import datetime\n",
    "\n",
    "import pandas as pd\n",
    "\n",
    "NUM_PLAYERS = 8\n",
    "NUM_VISIBLE_PLAYERS = 3\n",
    "SEASON = 2024\n",
    "PLAYERS_FILE = \"players.csv\"\n",
    "GAMES_FILE = \"games.csv\"\n",
    "INJURIES_FILE = \"injuries.csv\"\n",
    "FANTABASKET_STATS_FILE = \"fantabasket_stats.csv\"\n",
    "PREDICTED_GAIN_FILE = \"predicted_gain.csv\""
   ]
  },
  {
   "cell_type": "code",
   "execution_count": null,
   "id": "2251f4d04249d892",
   "metadata": {
    "ExecuteTime": {
     "start_time": "2024-11-10T18:38:32.848210Z"
    },
    "collapsed": false
   },
   "outputs": [],
   "source": [
    "path_players = os.path.join(data_dir, \"players.csv\")\n",
    "df_players = pd.read_csv(path_players)\n",
    "df_players = df_players.drop_duplicates()\n",
    "df_players.to_csv(path_players, index=False)"
   ]
  },
  {
   "cell_type": "code",
   "execution_count": null,
   "id": "ab69b81b555bce69",
   "metadata": {
    "ExecuteTime": {
     "start_time": "2024-11-10T18:38:32.848269Z"
    },
    "collapsed": false
   },
   "outputs": [],
   "source": [
    "df_stats = pd.read_csv(os.path.join(DATA_DIR, str(SEASON), \"stats.csv\"))\n",
    "df_stats.duplicated().any()"
   ]
  },
  {
   "cell_type": "code",
   "execution_count": null,
   "id": "c2713efeeb67372",
   "metadata": {
    "ExecuteTime": {
     "start_time": "2024-11-10T18:38:32.848282Z"
    },
    "collapsed": false
   },
   "outputs": [],
   "source": [
    "df_fanta_stats = pd.read_csv(os.path.join(DATA_DIR, \"fantabasket_stats.csv\"))\n",
    "df_fanta_stats.duplicated().any()"
   ]
  },
  {
   "cell_type": "code",
   "execution_count": null,
   "id": "26e8a7b69d41f01b",
   "metadata": {
    "ExecuteTime": {
     "start_time": "2024-11-10T18:38:32.848294Z"
    },
    "collapsed": false
   },
   "outputs": [],
   "source": [
    "def get_players_last_stats(data_dir: str, season: int) -> pd.DataFrame:\n",
    "    \"\"\"Gets player stats from the last game.\"\"\"\n",
    "    df_fanta_stats = pd.read_csv(os.path.join(data_dir, FANTABASKET_STATS_FILE))\n",
    "\n",
    "    # Add game dates to df_fanta_stats\n",
    "    games_path = os.path.join(data_dir, str(season), GAMES_FILE)\n",
    "    df_dates = pd.read_csv(games_path)[[\"date\", \"game_id\"]].drop_duplicates()\n",
    "    df_dates[\"date\"] = pd.to_datetime(df_dates[\"date\"])\n",
    "    df_fanta_stats = pd.merge(df_fanta_stats, df_dates, on=\"game_id\", how=\"right\")\n",
    "\n",
    "    # Select the last game for each player\n",
    "    df_last_dates = df_fanta_stats.groupby(\"name\", as_index=False)[\"date\"].max()\n",
    "    df_last_stats = pd.merge(df_fanta_stats, df_last_dates, on=[\"name\", \"date\"], how=\"inner\")\n",
    "\n",
    "    # Add players positions to df_fanta_stats\n",
    "    players_path = os.path.join(data_dir, PLAYERS_FILE)\n",
    "    df_last_stats = pd.merge(df_last_stats, pd.read_csv(players_path), on=\"name\", how=\"left\")\n",
    "    return df_last_stats"
   ]
  },
  {
   "cell_type": "code",
   "execution_count": null,
   "id": "9a537d9aebccc01b",
   "metadata": {
    "ExecuteTime": {
     "start_time": "2024-11-10T18:38:32.848305Z"
    },
    "collapsed": false
   },
   "outputs": [],
   "source": [
    "df_last_stats = get_players_last_stats(data_dir=DATA_DIR, season=SEASON)\n",
    "df_last_stats"
   ]
  },
  {
   "cell_type": "code",
   "execution_count": null,
   "id": "e42d63e895069b09",
   "metadata": {
    "ExecuteTime": {
     "start_time": "2024-11-10T18:38:32.848318Z"
    },
    "collapsed": false
   },
   "outputs": [],
   "source": [
    "def import_data() -> pd.DataFrame:\n",
    "    df = pd.read_csv(CURRENT_STATS_FILE)\n",
    "    df = add_date_position(df)\n",
    "    df[\"date\"] = pd.to_datetime(df[\"date\"])\n",
    "    df[\"time_delta\"] = (datetime.datetime.today() - df.date).dt.days\n",
    "    df[\"last_price\"] = df.groupby(\"name\")[\"fanta_value\"].transform(\"last\")\n",
    "    df_gain = pd.read_csv(PREDICTED_GAIN_FILE)[[\"name\", \"predicted_gain\", \"status\"]]\n",
    "    df = pd.merge(df, df_gain, on=\"name\", how=\"left\")\n",
    "    df[\"status\"] = df[\"status\"].fillna(\"\")\n",
    "    return df"
   ]
  },
  {
   "cell_type": "code",
   "execution_count": null,
   "id": "7e9a4b024386cae3",
   "metadata": {
    "ExecuteTime": {
     "start_time": "2024-11-10T18:38:32.848334Z"
    },
    "collapsed": false
   },
   "outputs": [],
   "source": [
    "\n",
    "\n",
    "# Init\n",
    "df = import_data()\n",
    "df_plot = df.copy()\n",
    "df_plot[\"name\"] = df_plot[\"name\"] + \" - \" + df_plot[\"last_price\"].apply(lambda x: f\"{x:.1f}\")\n",
    "roles = [\"All\", \"C\", \"F\", \"G\"]\n",
    "metrics = {\"Predicted Gain\": \"predicted_gain\",\n",
    "           \"Median Gain\": \"median_gain\",\n",
    "           \"Average Score\": \"mean_score\",\n",
    "           \"fanta Value\": \"fanta_value\"}\n",
    "\n",
    "df_last = df.copy()\n",
    "df_last[\"last_date\"] = df_last.groupby(\"name\")[\"date\"].transform(\"max\")\n",
    "df_last = df_last[df_last.date == df_last.last_date]\n",
    "df_last = df_last[df_last.date >= (pd.Timestamp.now().normalize() - pd.Timedelta(3, \"d\"))]\n",
    "df_last = df_last[[\"name\", \"position\", \"fanta_value\", \"fanta_score\", \"fanta_gain\",\n",
    "                   \"mp\", \"pts\", \"trb\", \"ast\", \"stl\", \"blk\", \"tov\", \"pf\"]]\n",
    "df_last.columns = [\"Name\", \"Role\", \"Value\", \"Score\", \"Gain\",\n",
    "                   \"min\", \"pts\", \"trb\", \"ast\", \"stl\", \"blk\", \"tov\", \"pf\"]\n",
    "df_last = df_last.sort_values(\"Gain\", ascending=False).reset_index(drop=True).round(1)\n"
   ]
  }
 ],
 "metadata": {
  "kernelspec": {
   "display_name": "Python3",
   "language": "python",
   "name": "python3"
  },
  "language_info": {
   "codemirror_mode": {
    "name": "ipython",
    "version": 3
   },
   "file_extension": ".py",
   "mimetype": "text/x-python",
   "name": "python",
   "nbconvert_exporter": "python",
   "pygments_lexer": "ipython3",
   "version": "3.11.9"
  }
 },
 "nbformat": 4,
 "nbformat_minor": 5
}
