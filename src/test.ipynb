{
 "cells": [
  {
   "cell_type": "markdown",
   "id": "653fe2e0-3b25-4bd6-a9bb-cdfb8a8bac75",
   "metadata": {},
   "source": [
    "# Debug File"
   ]
  },
  {
   "cell_type": "code",
   "execution_count": 13,
   "outputs": [],
   "source": [
    "DATA_DIR = \"../data\"\n",
    "SEASON = 2023"
   ],
   "metadata": {
    "collapsed": false,
    "ExecuteTime": {
     "end_time": "2023-10-29T11:17:29.096028Z",
     "start_time": "2023-10-29T11:17:29.092551Z"
    }
   },
   "id": "b2209f526c45ae12"
  },
  {
   "cell_type": "markdown",
   "source": [
    "## Scrape Calendar"
   ],
   "metadata": {
    "collapsed": false
   },
   "id": "91601a5147c2ffa3"
  },
  {
   "cell_type": "code",
   "execution_count": 14,
   "outputs": [],
   "source": [
    "from src.scraping.scrape_calendar import update_get_nba_calendar"
   ],
   "metadata": {
    "collapsed": false,
    "ExecuteTime": {
     "end_time": "2023-10-29T11:17:29.404855Z",
     "start_time": "2023-10-29T11:17:29.403076Z"
    }
   },
   "id": "169e6ee3123b727b"
  },
  {
   "cell_type": "code",
   "execution_count": 15,
   "outputs": [
    {
     "data": {
      "text/plain": "            date team_visitor      team_home\n0     2023-10-24    LA Lakers         Denver\n1     2023-10-24      Phoenix   Golden State\n2     2023-10-25      Houston        Orlando\n3     2023-10-25       Boston       New York\n4     2023-10-25   Washington        Indiana\n...          ...          ...            ...\n1195  2024-04-14      Phoenix      Minnesota\n1196  2024-04-14    LA Lakers    New Orleans\n1197  2024-04-14       Dallas  Oklahoma City\n1198  2024-04-14     Portland     Sacramento\n1199  2024-04-14      Detroit    San Antonio\n\n[1200 rows x 3 columns]",
      "text/html": "<div>\n<style scoped>\n    .dataframe tbody tr th:only-of-type {\n        vertical-align: middle;\n    }\n\n    .dataframe tbody tr th {\n        vertical-align: top;\n    }\n\n    .dataframe thead th {\n        text-align: right;\n    }\n</style>\n<table border=\"1\" class=\"dataframe\">\n  <thead>\n    <tr style=\"text-align: right;\">\n      <th></th>\n      <th>date</th>\n      <th>team_visitor</th>\n      <th>team_home</th>\n    </tr>\n  </thead>\n  <tbody>\n    <tr>\n      <th>0</th>\n      <td>2023-10-24</td>\n      <td>LA Lakers</td>\n      <td>Denver</td>\n    </tr>\n    <tr>\n      <th>1</th>\n      <td>2023-10-24</td>\n      <td>Phoenix</td>\n      <td>Golden State</td>\n    </tr>\n    <tr>\n      <th>2</th>\n      <td>2023-10-25</td>\n      <td>Houston</td>\n      <td>Orlando</td>\n    </tr>\n    <tr>\n      <th>3</th>\n      <td>2023-10-25</td>\n      <td>Boston</td>\n      <td>New York</td>\n    </tr>\n    <tr>\n      <th>4</th>\n      <td>2023-10-25</td>\n      <td>Washington</td>\n      <td>Indiana</td>\n    </tr>\n    <tr>\n      <th>...</th>\n      <td>...</td>\n      <td>...</td>\n      <td>...</td>\n    </tr>\n    <tr>\n      <th>1195</th>\n      <td>2024-04-14</td>\n      <td>Phoenix</td>\n      <td>Minnesota</td>\n    </tr>\n    <tr>\n      <th>1196</th>\n      <td>2024-04-14</td>\n      <td>LA Lakers</td>\n      <td>New Orleans</td>\n    </tr>\n    <tr>\n      <th>1197</th>\n      <td>2024-04-14</td>\n      <td>Dallas</td>\n      <td>Oklahoma City</td>\n    </tr>\n    <tr>\n      <th>1198</th>\n      <td>2024-04-14</td>\n      <td>Portland</td>\n      <td>Sacramento</td>\n    </tr>\n    <tr>\n      <th>1199</th>\n      <td>2024-04-14</td>\n      <td>Detroit</td>\n      <td>San Antonio</td>\n    </tr>\n  </tbody>\n</table>\n<p>1200 rows × 3 columns</p>\n</div>"
     },
     "execution_count": 15,
     "metadata": {},
     "output_type": "execute_result"
    }
   ],
   "source": [
    "df_calendar = update_get_nba_calendar(data_dir=DATA_DIR, season=SEASON)\n",
    "df_calendar"
   ],
   "metadata": {
    "collapsed": false,
    "ExecuteTime": {
     "end_time": "2023-10-29T11:17:29.801463Z",
     "start_time": "2023-10-29T11:17:29.790640Z"
    }
   },
   "id": "24bee30cebad67c0"
  },
  {
   "cell_type": "markdown",
   "id": "84af6cbe-a3d5-4fe0-8e13-07b59b62bf91",
   "metadata": {},
   "source": [
    "## Scrape Games"
   ]
  },
  {
   "cell_type": "code",
   "execution_count": 4,
   "outputs": [],
   "source": [
    "from src.scraping.scrape_games import Scraper"
   ],
   "metadata": {
    "collapsed": false,
    "ExecuteTime": {
     "end_time": "2023-10-28T16:12:57.973766Z",
     "start_time": "2023-10-28T16:12:57.914037Z"
    }
   },
   "id": "28889b0a79865c42"
  },
  {
   "cell_type": "code",
   "execution_count": 5,
   "id": "d637b003-99d3-47cb-a45c-da7ec0be32e7",
   "metadata": {
    "ExecuteTime": {
     "end_time": "2023-10-28T16:13:02.250950Z",
     "start_time": "2023-10-28T16:12:57.975650Z"
    }
   },
   "outputs": [
    {
     "name": "stdout",
     "output_type": "stream",
     "text": [
      "Scraping 2023-10-27: 0 games.\n"
     ]
    },
    {
     "data": {
      "text/plain": "                     name    mp    fg   fga    fg%   3p  3pa    3p%    ft  \\\n0            Kevin Durant  39.0  14.0  28.0  0.500  1.0  5.0  0.200  10.0   \n1           Grayson Allen  34.0   2.0   6.0  0.333  2.0  4.0  0.500   0.0   \n2             Josh Okogie  32.0   3.0   5.0  0.600  2.0  4.0  0.500   2.0   \n3             Eric Gordon  30.0   6.0  16.0  0.375  2.0  8.0  0.250   1.0   \n4            Jusuf Nurkić  28.0   1.0   5.0  0.200  0.0  2.0  0.000   2.0   \n..                    ...   ...   ...   ...    ...  ...  ...    ...   ...   \n450           Dario Šarić  20.0   3.0  11.0  0.273  1.0  3.0  0.333   0.0   \n451           Moses Moody  17.0   4.0   6.0  0.667  2.0  4.0  0.500   1.0   \n452           Cory Joseph   3.0   0.0   0.0    NaN  0.0  0.0    NaN   0.0   \n453  Trayce Jackson-Davis   NaN   NaN   NaN    NaN  NaN  NaN    NaN   NaN   \n454    Brandin Podziemski   NaN   NaN   NaN    NaN  NaN  NaN    NaN   NaN   \n\n      fta  ...  ast  stl  blk  tov   pf   pts   +/-  start  win       game_id  \n0    13.0  ...  2.0  1.0  1.0  8.0  2.0  39.0  18.0      1    0  202310260LAL  \n1     0.0  ...  4.0  0.0  0.0  0.0  3.0   6.0  -2.0      1    0  202310260LAL  \n2     2.0  ...  3.0  0.0  1.0  1.0  2.0  10.0   3.0      1    0  202310260LAL  \n3     1.0  ...  0.0  0.0  0.0  2.0  2.0  15.0 -27.0      1    0  202310260LAL  \n4     2.0  ...  3.0  3.0  0.0  4.0  5.0   4.0  -5.0      1    0  202310260LAL  \n..    ...  ...  ...  ...  ...  ...  ...   ...   ...    ...  ...           ...  \n450   0.0  ...  1.0  0.0  2.0  0.0  3.0   7.0   7.0      0    0  202310240GSW  \n451   2.0  ...  0.0  3.0  1.0  1.0  1.0  11.0  -6.0      0    0  202310240GSW  \n452   0.0  ...  1.0  0.0  0.0  0.0  0.0   0.0 -12.0      0    0  202310240GSW  \n453   NaN  ...  NaN  NaN  NaN  NaN  NaN   NaN   NaN      0    0  202310240GSW  \n454   NaN  ...  NaN  NaN  NaN  NaN  NaN   NaN   NaN      0    0  202310240GSW  \n\n[455 rows x 24 columns]",
      "text/html": "<div>\n<style scoped>\n    .dataframe tbody tr th:only-of-type {\n        vertical-align: middle;\n    }\n\n    .dataframe tbody tr th {\n        vertical-align: top;\n    }\n\n    .dataframe thead th {\n        text-align: right;\n    }\n</style>\n<table border=\"1\" class=\"dataframe\">\n  <thead>\n    <tr style=\"text-align: right;\">\n      <th></th>\n      <th>name</th>\n      <th>mp</th>\n      <th>fg</th>\n      <th>fga</th>\n      <th>fg%</th>\n      <th>3p</th>\n      <th>3pa</th>\n      <th>3p%</th>\n      <th>ft</th>\n      <th>fta</th>\n      <th>...</th>\n      <th>ast</th>\n      <th>stl</th>\n      <th>blk</th>\n      <th>tov</th>\n      <th>pf</th>\n      <th>pts</th>\n      <th>+/-</th>\n      <th>start</th>\n      <th>win</th>\n      <th>game_id</th>\n    </tr>\n  </thead>\n  <tbody>\n    <tr>\n      <th>0</th>\n      <td>Kevin Durant</td>\n      <td>39.0</td>\n      <td>14.0</td>\n      <td>28.0</td>\n      <td>0.500</td>\n      <td>1.0</td>\n      <td>5.0</td>\n      <td>0.200</td>\n      <td>10.0</td>\n      <td>13.0</td>\n      <td>...</td>\n      <td>2.0</td>\n      <td>1.0</td>\n      <td>1.0</td>\n      <td>8.0</td>\n      <td>2.0</td>\n      <td>39.0</td>\n      <td>18.0</td>\n      <td>1</td>\n      <td>0</td>\n      <td>202310260LAL</td>\n    </tr>\n    <tr>\n      <th>1</th>\n      <td>Grayson Allen</td>\n      <td>34.0</td>\n      <td>2.0</td>\n      <td>6.0</td>\n      <td>0.333</td>\n      <td>2.0</td>\n      <td>4.0</td>\n      <td>0.500</td>\n      <td>0.0</td>\n      <td>0.0</td>\n      <td>...</td>\n      <td>4.0</td>\n      <td>0.0</td>\n      <td>0.0</td>\n      <td>0.0</td>\n      <td>3.0</td>\n      <td>6.0</td>\n      <td>-2.0</td>\n      <td>1</td>\n      <td>0</td>\n      <td>202310260LAL</td>\n    </tr>\n    <tr>\n      <th>2</th>\n      <td>Josh Okogie</td>\n      <td>32.0</td>\n      <td>3.0</td>\n      <td>5.0</td>\n      <td>0.600</td>\n      <td>2.0</td>\n      <td>4.0</td>\n      <td>0.500</td>\n      <td>2.0</td>\n      <td>2.0</td>\n      <td>...</td>\n      <td>3.0</td>\n      <td>0.0</td>\n      <td>1.0</td>\n      <td>1.0</td>\n      <td>2.0</td>\n      <td>10.0</td>\n      <td>3.0</td>\n      <td>1</td>\n      <td>0</td>\n      <td>202310260LAL</td>\n    </tr>\n    <tr>\n      <th>3</th>\n      <td>Eric Gordon</td>\n      <td>30.0</td>\n      <td>6.0</td>\n      <td>16.0</td>\n      <td>0.375</td>\n      <td>2.0</td>\n      <td>8.0</td>\n      <td>0.250</td>\n      <td>1.0</td>\n      <td>1.0</td>\n      <td>...</td>\n      <td>0.0</td>\n      <td>0.0</td>\n      <td>0.0</td>\n      <td>2.0</td>\n      <td>2.0</td>\n      <td>15.0</td>\n      <td>-27.0</td>\n      <td>1</td>\n      <td>0</td>\n      <td>202310260LAL</td>\n    </tr>\n    <tr>\n      <th>4</th>\n      <td>Jusuf Nurkić</td>\n      <td>28.0</td>\n      <td>1.0</td>\n      <td>5.0</td>\n      <td>0.200</td>\n      <td>0.0</td>\n      <td>2.0</td>\n      <td>0.000</td>\n      <td>2.0</td>\n      <td>2.0</td>\n      <td>...</td>\n      <td>3.0</td>\n      <td>3.0</td>\n      <td>0.0</td>\n      <td>4.0</td>\n      <td>5.0</td>\n      <td>4.0</td>\n      <td>-5.0</td>\n      <td>1</td>\n      <td>0</td>\n      <td>202310260LAL</td>\n    </tr>\n    <tr>\n      <th>...</th>\n      <td>...</td>\n      <td>...</td>\n      <td>...</td>\n      <td>...</td>\n      <td>...</td>\n      <td>...</td>\n      <td>...</td>\n      <td>...</td>\n      <td>...</td>\n      <td>...</td>\n      <td>...</td>\n      <td>...</td>\n      <td>...</td>\n      <td>...</td>\n      <td>...</td>\n      <td>...</td>\n      <td>...</td>\n      <td>...</td>\n      <td>...</td>\n      <td>...</td>\n      <td>...</td>\n    </tr>\n    <tr>\n      <th>450</th>\n      <td>Dario Šarić</td>\n      <td>20.0</td>\n      <td>3.0</td>\n      <td>11.0</td>\n      <td>0.273</td>\n      <td>1.0</td>\n      <td>3.0</td>\n      <td>0.333</td>\n      <td>0.0</td>\n      <td>0.0</td>\n      <td>...</td>\n      <td>1.0</td>\n      <td>0.0</td>\n      <td>2.0</td>\n      <td>0.0</td>\n      <td>3.0</td>\n      <td>7.0</td>\n      <td>7.0</td>\n      <td>0</td>\n      <td>0</td>\n      <td>202310240GSW</td>\n    </tr>\n    <tr>\n      <th>451</th>\n      <td>Moses Moody</td>\n      <td>17.0</td>\n      <td>4.0</td>\n      <td>6.0</td>\n      <td>0.667</td>\n      <td>2.0</td>\n      <td>4.0</td>\n      <td>0.500</td>\n      <td>1.0</td>\n      <td>2.0</td>\n      <td>...</td>\n      <td>0.0</td>\n      <td>3.0</td>\n      <td>1.0</td>\n      <td>1.0</td>\n      <td>1.0</td>\n      <td>11.0</td>\n      <td>-6.0</td>\n      <td>0</td>\n      <td>0</td>\n      <td>202310240GSW</td>\n    </tr>\n    <tr>\n      <th>452</th>\n      <td>Cory Joseph</td>\n      <td>3.0</td>\n      <td>0.0</td>\n      <td>0.0</td>\n      <td>NaN</td>\n      <td>0.0</td>\n      <td>0.0</td>\n      <td>NaN</td>\n      <td>0.0</td>\n      <td>0.0</td>\n      <td>...</td>\n      <td>1.0</td>\n      <td>0.0</td>\n      <td>0.0</td>\n      <td>0.0</td>\n      <td>0.0</td>\n      <td>0.0</td>\n      <td>-12.0</td>\n      <td>0</td>\n      <td>0</td>\n      <td>202310240GSW</td>\n    </tr>\n    <tr>\n      <th>453</th>\n      <td>Trayce Jackson-Davis</td>\n      <td>NaN</td>\n      <td>NaN</td>\n      <td>NaN</td>\n      <td>NaN</td>\n      <td>NaN</td>\n      <td>NaN</td>\n      <td>NaN</td>\n      <td>NaN</td>\n      <td>NaN</td>\n      <td>...</td>\n      <td>NaN</td>\n      <td>NaN</td>\n      <td>NaN</td>\n      <td>NaN</td>\n      <td>NaN</td>\n      <td>NaN</td>\n      <td>NaN</td>\n      <td>0</td>\n      <td>0</td>\n      <td>202310240GSW</td>\n    </tr>\n    <tr>\n      <th>454</th>\n      <td>Brandin Podziemski</td>\n      <td>NaN</td>\n      <td>NaN</td>\n      <td>NaN</td>\n      <td>NaN</td>\n      <td>NaN</td>\n      <td>NaN</td>\n      <td>NaN</td>\n      <td>NaN</td>\n      <td>NaN</td>\n      <td>...</td>\n      <td>NaN</td>\n      <td>NaN</td>\n      <td>NaN</td>\n      <td>NaN</td>\n      <td>NaN</td>\n      <td>NaN</td>\n      <td>NaN</td>\n      <td>0</td>\n      <td>0</td>\n      <td>202310240GSW</td>\n    </tr>\n  </tbody>\n</table>\n<p>455 rows × 24 columns</p>\n</div>"
     },
     "execution_count": 5,
     "metadata": {},
     "output_type": "execute_result"
    }
   ],
   "source": [
    "scraper = Scraper(data_dir=DATA_DIR, season=SEASON, df_calendar=df_calendar)\n",
    "df_stats = scraper.update_get_nba_stats()\n",
    "df_stats"
   ]
  },
  {
   "cell_type": "markdown",
   "id": "064610d7-0d87-4ebd-8962-f1a9b0fbfca5",
   "metadata": {},
   "source": [
    "## Scrape Injuries"
   ]
  },
  {
   "cell_type": "code",
   "execution_count": 6,
   "outputs": [],
   "source": [
    "from src.scraping.scrape_injuries import update_get_nba_injuries"
   ],
   "metadata": {
    "collapsed": false,
    "ExecuteTime": {
     "end_time": "2023-10-28T16:13:02.252813Z",
     "start_time": "2023-10-28T16:13:02.194231Z"
    }
   },
   "id": "14807154958130b6"
  },
  {
   "cell_type": "code",
   "execution_count": 7,
   "outputs": [
    {
     "data": {
      "text/plain": "                   name              status\n0       Wesley Matthews               Nov 9\n1       Nicolas Claxton                 gtd\n2       Dariq Whitehead                 gtd\n3       Cameron Johnson                 gtd\n4           Cody Martin                 gtd\n5       Frank Ntilikina              Nov 20\n6       James Bouknight               Nov 4\n7           Zach LaVine                 gtd\n8            Lonzo Ball  Out for the season\n9        Darius Garland                 gtd\n10        Jarrett Allen                 gtd\n11          Ricky Rubio               Jan 1\n12             Jay Huff                 gtd\n13        Vlatko Cancar               Apr 1\n14     Bojan Bogdanovic              Nov 24\n15         Monte Morris              Nov 14\n16        Isaiah Livers              Nov 21\n17       Draymond Green                 gtd\n18          Nate Hinton                 gtd\n19         Jock Landale                 gtd\n20       Victor Oladipo              Nov 17\n21           Tari Eason               Nov 5\n22    Tyrese Haliburton                 gtd\n23        Marcus Morris                 gtd\n24         Terance Mann                 gtd\n25   Brandon Boston Jr.                 gtd\n26         Joshua Primo               Nov 1\n27    Jarred Vanderbilt              Nov 12\n28  Jalen Hood-Schifino               Nov 4\n29         Santi Aldama                 gtd\n30         Luke Kennard              Oct 30\n31         Steven Adams  Out for the season\n32       Brandon Clarke               Feb 1\n33         Caleb Martin                 gtd\n34      Josh Richardson                 gtd\n35    Haywood Highsmith               Nov 3\n36      Jaden McDaniels                 gtd\n37         Jaylen Clark               Jan 1\n38        Jose Alvarado               Nov 8\n39        Naji Marshall              Oct 30\n40      Trey Murphy III              Nov 17\n41     Kenrich Williams                 gtd\n42      Jaylin Williams               Nov 1\n43         Kevon Harris                 gtd\n44         James Harden              Oct 29\n45         Bradley Beal              Oct 31\n46         Devin Booker                 gtd\n47           Damion Lee              Dec 31\n48    Ishmail Wainright                 gtd\n49      Anfernee Simons               Dec 2\n50           Trey Lyles                 gtd\n51        Jalen Slawson                 gtd\n52           OG Anunoby                 gtd\n53     Christian Koloko                 gtd\n54         Johnny Davis              Oct 30\n55        Landry Shamet              Oct 30",
      "text/html": "<div>\n<style scoped>\n    .dataframe tbody tr th:only-of-type {\n        vertical-align: middle;\n    }\n\n    .dataframe tbody tr th {\n        vertical-align: top;\n    }\n\n    .dataframe thead th {\n        text-align: right;\n    }\n</style>\n<table border=\"1\" class=\"dataframe\">\n  <thead>\n    <tr style=\"text-align: right;\">\n      <th></th>\n      <th>name</th>\n      <th>status</th>\n    </tr>\n  </thead>\n  <tbody>\n    <tr>\n      <th>0</th>\n      <td>Wesley Matthews</td>\n      <td>Nov 9</td>\n    </tr>\n    <tr>\n      <th>1</th>\n      <td>Nicolas Claxton</td>\n      <td>gtd</td>\n    </tr>\n    <tr>\n      <th>2</th>\n      <td>Dariq Whitehead</td>\n      <td>gtd</td>\n    </tr>\n    <tr>\n      <th>3</th>\n      <td>Cameron Johnson</td>\n      <td>gtd</td>\n    </tr>\n    <tr>\n      <th>4</th>\n      <td>Cody Martin</td>\n      <td>gtd</td>\n    </tr>\n    <tr>\n      <th>5</th>\n      <td>Frank Ntilikina</td>\n      <td>Nov 20</td>\n    </tr>\n    <tr>\n      <th>6</th>\n      <td>James Bouknight</td>\n      <td>Nov 4</td>\n    </tr>\n    <tr>\n      <th>7</th>\n      <td>Zach LaVine</td>\n      <td>gtd</td>\n    </tr>\n    <tr>\n      <th>8</th>\n      <td>Lonzo Ball</td>\n      <td>Out for the season</td>\n    </tr>\n    <tr>\n      <th>9</th>\n      <td>Darius Garland</td>\n      <td>gtd</td>\n    </tr>\n    <tr>\n      <th>10</th>\n      <td>Jarrett Allen</td>\n      <td>gtd</td>\n    </tr>\n    <tr>\n      <th>11</th>\n      <td>Ricky Rubio</td>\n      <td>Jan 1</td>\n    </tr>\n    <tr>\n      <th>12</th>\n      <td>Jay Huff</td>\n      <td>gtd</td>\n    </tr>\n    <tr>\n      <th>13</th>\n      <td>Vlatko Cancar</td>\n      <td>Apr 1</td>\n    </tr>\n    <tr>\n      <th>14</th>\n      <td>Bojan Bogdanovic</td>\n      <td>Nov 24</td>\n    </tr>\n    <tr>\n      <th>15</th>\n      <td>Monte Morris</td>\n      <td>Nov 14</td>\n    </tr>\n    <tr>\n      <th>16</th>\n      <td>Isaiah Livers</td>\n      <td>Nov 21</td>\n    </tr>\n    <tr>\n      <th>17</th>\n      <td>Draymond Green</td>\n      <td>gtd</td>\n    </tr>\n    <tr>\n      <th>18</th>\n      <td>Nate Hinton</td>\n      <td>gtd</td>\n    </tr>\n    <tr>\n      <th>19</th>\n      <td>Jock Landale</td>\n      <td>gtd</td>\n    </tr>\n    <tr>\n      <th>20</th>\n      <td>Victor Oladipo</td>\n      <td>Nov 17</td>\n    </tr>\n    <tr>\n      <th>21</th>\n      <td>Tari Eason</td>\n      <td>Nov 5</td>\n    </tr>\n    <tr>\n      <th>22</th>\n      <td>Tyrese Haliburton</td>\n      <td>gtd</td>\n    </tr>\n    <tr>\n      <th>23</th>\n      <td>Marcus Morris</td>\n      <td>gtd</td>\n    </tr>\n    <tr>\n      <th>24</th>\n      <td>Terance Mann</td>\n      <td>gtd</td>\n    </tr>\n    <tr>\n      <th>25</th>\n      <td>Brandon Boston Jr.</td>\n      <td>gtd</td>\n    </tr>\n    <tr>\n      <th>26</th>\n      <td>Joshua Primo</td>\n      <td>Nov 1</td>\n    </tr>\n    <tr>\n      <th>27</th>\n      <td>Jarred Vanderbilt</td>\n      <td>Nov 12</td>\n    </tr>\n    <tr>\n      <th>28</th>\n      <td>Jalen Hood-Schifino</td>\n      <td>Nov 4</td>\n    </tr>\n    <tr>\n      <th>29</th>\n      <td>Santi Aldama</td>\n      <td>gtd</td>\n    </tr>\n    <tr>\n      <th>30</th>\n      <td>Luke Kennard</td>\n      <td>Oct 30</td>\n    </tr>\n    <tr>\n      <th>31</th>\n      <td>Steven Adams</td>\n      <td>Out for the season</td>\n    </tr>\n    <tr>\n      <th>32</th>\n      <td>Brandon Clarke</td>\n      <td>Feb 1</td>\n    </tr>\n    <tr>\n      <th>33</th>\n      <td>Caleb Martin</td>\n      <td>gtd</td>\n    </tr>\n    <tr>\n      <th>34</th>\n      <td>Josh Richardson</td>\n      <td>gtd</td>\n    </tr>\n    <tr>\n      <th>35</th>\n      <td>Haywood Highsmith</td>\n      <td>Nov 3</td>\n    </tr>\n    <tr>\n      <th>36</th>\n      <td>Jaden McDaniels</td>\n      <td>gtd</td>\n    </tr>\n    <tr>\n      <th>37</th>\n      <td>Jaylen Clark</td>\n      <td>Jan 1</td>\n    </tr>\n    <tr>\n      <th>38</th>\n      <td>Jose Alvarado</td>\n      <td>Nov 8</td>\n    </tr>\n    <tr>\n      <th>39</th>\n      <td>Naji Marshall</td>\n      <td>Oct 30</td>\n    </tr>\n    <tr>\n      <th>40</th>\n      <td>Trey Murphy III</td>\n      <td>Nov 17</td>\n    </tr>\n    <tr>\n      <th>41</th>\n      <td>Kenrich Williams</td>\n      <td>gtd</td>\n    </tr>\n    <tr>\n      <th>42</th>\n      <td>Jaylin Williams</td>\n      <td>Nov 1</td>\n    </tr>\n    <tr>\n      <th>43</th>\n      <td>Kevon Harris</td>\n      <td>gtd</td>\n    </tr>\n    <tr>\n      <th>44</th>\n      <td>James Harden</td>\n      <td>Oct 29</td>\n    </tr>\n    <tr>\n      <th>45</th>\n      <td>Bradley Beal</td>\n      <td>Oct 31</td>\n    </tr>\n    <tr>\n      <th>46</th>\n      <td>Devin Booker</td>\n      <td>gtd</td>\n    </tr>\n    <tr>\n      <th>47</th>\n      <td>Damion Lee</td>\n      <td>Dec 31</td>\n    </tr>\n    <tr>\n      <th>48</th>\n      <td>Ishmail Wainright</td>\n      <td>gtd</td>\n    </tr>\n    <tr>\n      <th>49</th>\n      <td>Anfernee Simons</td>\n      <td>Dec 2</td>\n    </tr>\n    <tr>\n      <th>50</th>\n      <td>Trey Lyles</td>\n      <td>gtd</td>\n    </tr>\n    <tr>\n      <th>51</th>\n      <td>Jalen Slawson</td>\n      <td>gtd</td>\n    </tr>\n    <tr>\n      <th>52</th>\n      <td>OG Anunoby</td>\n      <td>gtd</td>\n    </tr>\n    <tr>\n      <th>53</th>\n      <td>Christian Koloko</td>\n      <td>gtd</td>\n    </tr>\n    <tr>\n      <th>54</th>\n      <td>Johnny Davis</td>\n      <td>Oct 30</td>\n    </tr>\n    <tr>\n      <th>55</th>\n      <td>Landry Shamet</td>\n      <td>Oct 30</td>\n    </tr>\n  </tbody>\n</table>\n</div>"
     },
     "execution_count": 7,
     "metadata": {},
     "output_type": "execute_result"
    }
   ],
   "source": [
    "df_injuries = update_get_nba_injuries(data_dir=DATA_DIR)\n",
    "df_injuries"
   ],
   "metadata": {
    "collapsed": false,
    "ExecuteTime": {
     "end_time": "2023-10-28T16:13:02.253294Z",
     "start_time": "2023-10-28T16:13:02.196703Z"
    }
   },
   "id": "a3611b06572dfa43"
  },
  {
   "cell_type": "markdown",
   "source": [
    "## Compute Stats"
   ],
   "metadata": {
    "collapsed": false
   },
   "id": "f34bef1409851a91"
  },
  {
   "cell_type": "code",
   "execution_count": 8,
   "outputs": [],
   "source": [
    "from model.compute_stats import FantabasketStats"
   ],
   "metadata": {
    "collapsed": false,
    "ExecuteTime": {
     "end_time": "2023-10-28T16:13:02.253347Z",
     "start_time": "2023-10-28T16:13:02.235809Z"
    }
   },
   "id": "62fe9abda6a5e457"
  },
  {
   "cell_type": "code",
   "execution_count": 9,
   "outputs": [
    {
     "data": {
      "text/plain": "                  name    mp   fg   fga    fg%   3p   3pa    3p%    ft   fta  \\\n419    Christian Braun  19.0  2.0   5.0  0.400  0.0   1.0  0.000   1.0   2.0   \n425     Justin Holiday   NaN  NaN   NaN    NaN  NaN   NaN    NaN   NaN   NaN   \n424        Braxton Key   0.0  0.0   0.0    NaN  0.0   0.0    NaN   0.0   0.0   \n423   Collin Gillespie   0.0  0.0   0.0    NaN  0.0   0.0    NaN   0.0   0.0   \n422      Jalen Pickett   0.0  1.0   1.0  1.000  0.0   0.0    NaN   0.0   0.0   \n..                 ...   ...  ...   ...    ...  ...   ...    ...   ...   ...   \n32   De'Anthony Melton  24.0  3.0  10.0  0.300  2.0   6.0  0.333   2.0   2.0   \n31         P.J. Tucker  25.0  0.0   2.0  0.000  0.0   2.0  0.000   0.0   0.0   \n30         Joel Embiid  36.0  9.0  21.0  0.429  3.0   7.0  0.429   3.0   8.0   \n42      Damian Lillard  37.0  9.0  20.0  0.450  4.0  12.0  0.333  17.0  17.0   \n48     Pat Connaughton  20.0  2.0   6.0  0.333  1.0   4.0  0.250   2.0   2.0   \n\n     ...  tov   pf   pts   +/-  start  win       game_id  fanta_score  \\\n419  ...  1.0  1.0   5.0   5.0      0    1  202310240DEN       7.6125   \n425  ...  NaN  NaN   NaN   NaN      0    1  202310240DEN          NaN   \n424  ...  0.0  0.0   0.0   0.0      0    1  202310240DEN       0.0000   \n423  ...  0.0  0.0   0.0   0.0      0    1  202310240DEN       0.0000   \n422  ...  0.0  0.0   2.0   0.0      0    1  202310240DEN       2.1000   \n..   ...  ...  ...   ...   ...    ...  ...           ...          ...   \n32   ...  1.0  2.0  10.0  -4.0      1    0  202310260MIL      13.7500   \n31   ...  0.0  5.0   0.0   2.0      1    0  202310260MIL       9.2500   \n30   ...  7.0  5.0  24.0  -1.0      1    0  202310260MIL      18.0000   \n42   ...  0.0  2.0  39.0  12.0      1    1  202310260MIL      49.3500   \n48   ...  0.0  0.0   7.0  -5.0      0    1  202310260MIL       9.9750   \n\n     fanta_value  fanta_gain  \n419     4.010313    0.010313  \n425     4.000000   -0.100000  \n424     4.000000   -0.180000  \n423     4.000000    0.000000  \n422     4.000000    0.005250  \n..           ...         ...  \n32      8.480965   -0.039679  \n31      4.215249    0.043522  \n30     20.485357   -0.494074  \n42     20.283893    0.336099  \n48      6.319143   -0.036635  \n\n[455 rows x 27 columns]",
      "text/html": "<div>\n<style scoped>\n    .dataframe tbody tr th:only-of-type {\n        vertical-align: middle;\n    }\n\n    .dataframe tbody tr th {\n        vertical-align: top;\n    }\n\n    .dataframe thead th {\n        text-align: right;\n    }\n</style>\n<table border=\"1\" class=\"dataframe\">\n  <thead>\n    <tr style=\"text-align: right;\">\n      <th></th>\n      <th>name</th>\n      <th>mp</th>\n      <th>fg</th>\n      <th>fga</th>\n      <th>fg%</th>\n      <th>3p</th>\n      <th>3pa</th>\n      <th>3p%</th>\n      <th>ft</th>\n      <th>fta</th>\n      <th>...</th>\n      <th>tov</th>\n      <th>pf</th>\n      <th>pts</th>\n      <th>+/-</th>\n      <th>start</th>\n      <th>win</th>\n      <th>game_id</th>\n      <th>fanta_score</th>\n      <th>fanta_value</th>\n      <th>fanta_gain</th>\n    </tr>\n  </thead>\n  <tbody>\n    <tr>\n      <th>419</th>\n      <td>Christian Braun</td>\n      <td>19.0</td>\n      <td>2.0</td>\n      <td>5.0</td>\n      <td>0.400</td>\n      <td>0.0</td>\n      <td>1.0</td>\n      <td>0.000</td>\n      <td>1.0</td>\n      <td>2.0</td>\n      <td>...</td>\n      <td>1.0</td>\n      <td>1.0</td>\n      <td>5.0</td>\n      <td>5.0</td>\n      <td>0</td>\n      <td>1</td>\n      <td>202310240DEN</td>\n      <td>7.6125</td>\n      <td>4.010313</td>\n      <td>0.010313</td>\n    </tr>\n    <tr>\n      <th>425</th>\n      <td>Justin Holiday</td>\n      <td>NaN</td>\n      <td>NaN</td>\n      <td>NaN</td>\n      <td>NaN</td>\n      <td>NaN</td>\n      <td>NaN</td>\n      <td>NaN</td>\n      <td>NaN</td>\n      <td>NaN</td>\n      <td>...</td>\n      <td>NaN</td>\n      <td>NaN</td>\n      <td>NaN</td>\n      <td>NaN</td>\n      <td>0</td>\n      <td>1</td>\n      <td>202310240DEN</td>\n      <td>NaN</td>\n      <td>4.000000</td>\n      <td>-0.100000</td>\n    </tr>\n    <tr>\n      <th>424</th>\n      <td>Braxton Key</td>\n      <td>0.0</td>\n      <td>0.0</td>\n      <td>0.0</td>\n      <td>NaN</td>\n      <td>0.0</td>\n      <td>0.0</td>\n      <td>NaN</td>\n      <td>0.0</td>\n      <td>0.0</td>\n      <td>...</td>\n      <td>0.0</td>\n      <td>0.0</td>\n      <td>0.0</td>\n      <td>0.0</td>\n      <td>0</td>\n      <td>1</td>\n      <td>202310240DEN</td>\n      <td>0.0000</td>\n      <td>4.000000</td>\n      <td>-0.180000</td>\n    </tr>\n    <tr>\n      <th>423</th>\n      <td>Collin Gillespie</td>\n      <td>0.0</td>\n      <td>0.0</td>\n      <td>0.0</td>\n      <td>NaN</td>\n      <td>0.0</td>\n      <td>0.0</td>\n      <td>NaN</td>\n      <td>0.0</td>\n      <td>0.0</td>\n      <td>...</td>\n      <td>0.0</td>\n      <td>0.0</td>\n      <td>0.0</td>\n      <td>0.0</td>\n      <td>0</td>\n      <td>1</td>\n      <td>202310240DEN</td>\n      <td>0.0000</td>\n      <td>4.000000</td>\n      <td>0.000000</td>\n    </tr>\n    <tr>\n      <th>422</th>\n      <td>Jalen Pickett</td>\n      <td>0.0</td>\n      <td>1.0</td>\n      <td>1.0</td>\n      <td>1.000</td>\n      <td>0.0</td>\n      <td>0.0</td>\n      <td>NaN</td>\n      <td>0.0</td>\n      <td>0.0</td>\n      <td>...</td>\n      <td>0.0</td>\n      <td>0.0</td>\n      <td>2.0</td>\n      <td>0.0</td>\n      <td>0</td>\n      <td>1</td>\n      <td>202310240DEN</td>\n      <td>2.1000</td>\n      <td>4.000000</td>\n      <td>0.005250</td>\n    </tr>\n    <tr>\n      <th>...</th>\n      <td>...</td>\n      <td>...</td>\n      <td>...</td>\n      <td>...</td>\n      <td>...</td>\n      <td>...</td>\n      <td>...</td>\n      <td>...</td>\n      <td>...</td>\n      <td>...</td>\n      <td>...</td>\n      <td>...</td>\n      <td>...</td>\n      <td>...</td>\n      <td>...</td>\n      <td>...</td>\n      <td>...</td>\n      <td>...</td>\n      <td>...</td>\n      <td>...</td>\n      <td>...</td>\n    </tr>\n    <tr>\n      <th>32</th>\n      <td>De'Anthony Melton</td>\n      <td>24.0</td>\n      <td>3.0</td>\n      <td>10.0</td>\n      <td>0.300</td>\n      <td>2.0</td>\n      <td>6.0</td>\n      <td>0.333</td>\n      <td>2.0</td>\n      <td>2.0</td>\n      <td>...</td>\n      <td>1.0</td>\n      <td>2.0</td>\n      <td>10.0</td>\n      <td>-4.0</td>\n      <td>1</td>\n      <td>0</td>\n      <td>202310260MIL</td>\n      <td>13.7500</td>\n      <td>8.480965</td>\n      <td>-0.039679</td>\n    </tr>\n    <tr>\n      <th>31</th>\n      <td>P.J. Tucker</td>\n      <td>25.0</td>\n      <td>0.0</td>\n      <td>2.0</td>\n      <td>0.000</td>\n      <td>0.0</td>\n      <td>2.0</td>\n      <td>0.000</td>\n      <td>0.0</td>\n      <td>0.0</td>\n      <td>...</td>\n      <td>0.0</td>\n      <td>5.0</td>\n      <td>0.0</td>\n      <td>2.0</td>\n      <td>1</td>\n      <td>0</td>\n      <td>202310260MIL</td>\n      <td>9.2500</td>\n      <td>4.215249</td>\n      <td>0.043522</td>\n    </tr>\n    <tr>\n      <th>30</th>\n      <td>Joel Embiid</td>\n      <td>36.0</td>\n      <td>9.0</td>\n      <td>21.0</td>\n      <td>0.429</td>\n      <td>3.0</td>\n      <td>7.0</td>\n      <td>0.429</td>\n      <td>3.0</td>\n      <td>8.0</td>\n      <td>...</td>\n      <td>7.0</td>\n      <td>5.0</td>\n      <td>24.0</td>\n      <td>-1.0</td>\n      <td>1</td>\n      <td>0</td>\n      <td>202310260MIL</td>\n      <td>18.0000</td>\n      <td>20.485357</td>\n      <td>-0.494074</td>\n    </tr>\n    <tr>\n      <th>42</th>\n      <td>Damian Lillard</td>\n      <td>37.0</td>\n      <td>9.0</td>\n      <td>20.0</td>\n      <td>0.450</td>\n      <td>4.0</td>\n      <td>12.0</td>\n      <td>0.333</td>\n      <td>17.0</td>\n      <td>17.0</td>\n      <td>...</td>\n      <td>0.0</td>\n      <td>2.0</td>\n      <td>39.0</td>\n      <td>12.0</td>\n      <td>1</td>\n      <td>1</td>\n      <td>202310260MIL</td>\n      <td>49.3500</td>\n      <td>20.283893</td>\n      <td>0.336099</td>\n    </tr>\n    <tr>\n      <th>48</th>\n      <td>Pat Connaughton</td>\n      <td>20.0</td>\n      <td>2.0</td>\n      <td>6.0</td>\n      <td>0.333</td>\n      <td>1.0</td>\n      <td>4.0</td>\n      <td>0.250</td>\n      <td>2.0</td>\n      <td>2.0</td>\n      <td>...</td>\n      <td>0.0</td>\n      <td>0.0</td>\n      <td>7.0</td>\n      <td>-5.0</td>\n      <td>0</td>\n      <td>1</td>\n      <td>202310260MIL</td>\n      <td>9.9750</td>\n      <td>6.319143</td>\n      <td>-0.036635</td>\n    </tr>\n  </tbody>\n</table>\n<p>455 rows × 27 columns</p>\n</div>"
     },
     "execution_count": 9,
     "metadata": {},
     "output_type": "execute_result"
    }
   ],
   "source": [
    "ds = FantabasketStats(data_dir=DATA_DIR, season=SEASON, df_stats=df_stats)\n",
    "df_stats = ds.update_get_fantabasket_stats()\n",
    "df_stats"
   ],
   "metadata": {
    "collapsed": false,
    "ExecuteTime": {
     "end_time": "2023-10-28T16:13:02.589598Z",
     "start_time": "2023-10-28T16:13:02.235958Z"
    }
   },
   "id": "aee7b09377aa827f"
  },
  {
   "cell_type": "markdown",
   "source": [
    "## Predict Gain"
   ],
   "metadata": {
    "collapsed": false
   },
   "id": "e763ec32c824cbd9"
  },
  {
   "cell_type": "code",
   "execution_count": 10,
   "outputs": [],
   "source": [
    "df_games = ds.load_df(\"games.csv\")"
   ],
   "metadata": {
    "collapsed": false,
    "ExecuteTime": {
     "end_time": "2023-10-28T16:13:02.592873Z",
     "start_time": "2023-10-28T16:13:02.590264Z"
    }
   },
   "id": "b3cc2ef6b7b16c70"
  },
  {
   "cell_type": "code",
   "execution_count": 11,
   "outputs": [
    {
     "data": {
      "text/plain": "                      name  predicted_gain  predicted_score  fanta_value  \\\n293          Mark Williams        0.952462        54.543791     9.136277   \n301              Max Strus        0.867965        49.617552     8.277204   \n154        Harrison Barnes        0.670582        44.900086    10.042669   \n422     Xavier Tillman Sr.        0.647177        40.422415     8.075186   \n342        P.J. Washington        0.592627        42.206291    10.278450   \n..                     ...             ...              ...          ...   \n256        Khris Middleton       -0.597295        -4.389502    10.834613   \n42             Brook Lopez       -0.617638        -2.027002    12.599187   \n409         Troy Brown Jr.       -0.679462       -16.205731     6.095965   \n54           Cameron Payne       -0.685314       -15.414502     6.665583   \n147  Giannis Antetokounmpo       -0.697652         9.522998    20.793940   \n\n     start status  \n293      1   None  \n301      1   None  \n154      1   None  \n422      1   None  \n342      1   None  \n..     ...    ...  \n256      1   None  \n42       1   None  \n409      0   None  \n54       0   None  \n147      1   None  \n\n[419 rows x 6 columns]",
      "text/html": "<div>\n<style scoped>\n    .dataframe tbody tr th:only-of-type {\n        vertical-align: middle;\n    }\n\n    .dataframe tbody tr th {\n        vertical-align: top;\n    }\n\n    .dataframe thead th {\n        text-align: right;\n    }\n</style>\n<table border=\"1\" class=\"dataframe\">\n  <thead>\n    <tr style=\"text-align: right;\">\n      <th></th>\n      <th>name</th>\n      <th>predicted_gain</th>\n      <th>predicted_score</th>\n      <th>fanta_value</th>\n      <th>start</th>\n      <th>status</th>\n    </tr>\n  </thead>\n  <tbody>\n    <tr>\n      <th>293</th>\n      <td>Mark Williams</td>\n      <td>0.952462</td>\n      <td>54.543791</td>\n      <td>9.136277</td>\n      <td>1</td>\n      <td>None</td>\n    </tr>\n    <tr>\n      <th>301</th>\n      <td>Max Strus</td>\n      <td>0.867965</td>\n      <td>49.617552</td>\n      <td>8.277204</td>\n      <td>1</td>\n      <td>None</td>\n    </tr>\n    <tr>\n      <th>154</th>\n      <td>Harrison Barnes</td>\n      <td>0.670582</td>\n      <td>44.900086</td>\n      <td>10.042669</td>\n      <td>1</td>\n      <td>None</td>\n    </tr>\n    <tr>\n      <th>422</th>\n      <td>Xavier Tillman Sr.</td>\n      <td>0.647177</td>\n      <td>40.422415</td>\n      <td>8.075186</td>\n      <td>1</td>\n      <td>None</td>\n    </tr>\n    <tr>\n      <th>342</th>\n      <td>P.J. Washington</td>\n      <td>0.592627</td>\n      <td>42.206291</td>\n      <td>10.278450</td>\n      <td>1</td>\n      <td>None</td>\n    </tr>\n    <tr>\n      <th>...</th>\n      <td>...</td>\n      <td>...</td>\n      <td>...</td>\n      <td>...</td>\n      <td>...</td>\n      <td>...</td>\n    </tr>\n    <tr>\n      <th>256</th>\n      <td>Khris Middleton</td>\n      <td>-0.597295</td>\n      <td>-4.389502</td>\n      <td>10.834613</td>\n      <td>1</td>\n      <td>None</td>\n    </tr>\n    <tr>\n      <th>42</th>\n      <td>Brook Lopez</td>\n      <td>-0.617638</td>\n      <td>-2.027002</td>\n      <td>12.599187</td>\n      <td>1</td>\n      <td>None</td>\n    </tr>\n    <tr>\n      <th>409</th>\n      <td>Troy Brown Jr.</td>\n      <td>-0.679462</td>\n      <td>-16.205731</td>\n      <td>6.095965</td>\n      <td>0</td>\n      <td>None</td>\n    </tr>\n    <tr>\n      <th>54</th>\n      <td>Cameron Payne</td>\n      <td>-0.685314</td>\n      <td>-15.414502</td>\n      <td>6.665583</td>\n      <td>0</td>\n      <td>None</td>\n    </tr>\n    <tr>\n      <th>147</th>\n      <td>Giannis Antetokounmpo</td>\n      <td>-0.697652</td>\n      <td>9.522998</td>\n      <td>20.793940</td>\n      <td>1</td>\n      <td>None</td>\n    </tr>\n  </tbody>\n</table>\n<p>419 rows × 6 columns</p>\n</div>"
     },
     "execution_count": 11,
     "metadata": {},
     "output_type": "execute_result"
    }
   ],
   "source": [
    "from model.predict_gain import GainModel\n",
    "gm = GainModel(data_dir=DATA_DIR, season=SEASON, df_calendar=df_calendar, df_injuries=df_injuries, df_games=df_games, df_stats=df_stats)\n",
    "df_predicted_gain = gm.update_get_predicted_gain()\n",
    "df_predicted_gain"
   ],
   "metadata": {
    "collapsed": false,
    "ExecuteTime": {
     "end_time": "2023-10-28T16:13:03.894676Z",
     "start_time": "2023-10-28T16:13:02.593718Z"
    }
   },
   "id": "ebf3f4970e0281fe"
  },
  {
   "cell_type": "code",
   "execution_count": 12,
   "outputs": [],
   "source": [],
   "metadata": {
    "collapsed": false,
    "ExecuteTime": {
     "end_time": "2023-10-28T16:13:03.984785Z",
     "start_time": "2023-10-28T16:13:03.916385Z"
    }
   },
   "id": "efec38fde38bd1dd"
  }
 ],
 "metadata": {
  "kernelspec": {
   "display_name": "Python3",
   "language": "python",
   "name": "python3"
  },
  "language_info": {
   "codemirror_mode": {
    "name": "ipython",
    "version": 3
   },
   "file_extension": ".py",
   "mimetype": "text/x-python",
   "name": "python",
   "nbconvert_exporter": "python",
   "pygments_lexer": "ipython3",
   "version": "3.11.6"
  }
 },
 "nbformat": 4,
 "nbformat_minor": 5
}
